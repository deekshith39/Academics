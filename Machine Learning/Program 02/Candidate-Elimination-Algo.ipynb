{
 "cells": [
  {
   "cell_type": "code",
   "execution_count": 1,
   "metadata": {},
   "outputs": [],
   "source": [
    "import pandas as pd\n",
    "import numpy as np"
   ]
  },
  {
   "cell_type": "code",
   "execution_count": 7,
   "metadata": {},
   "outputs": [
    {
     "data": {
      "text/html": [
       "<div>\n",
       "<style scoped>\n",
       "    .dataframe tbody tr th:only-of-type {\n",
       "        vertical-align: middle;\n",
       "    }\n",
       "\n",
       "    .dataframe tbody tr th {\n",
       "        vertical-align: top;\n",
       "    }\n",
       "\n",
       "    .dataframe thead th {\n",
       "        text-align: right;\n",
       "    }\n",
       "</style>\n",
       "<table border=\"1\" class=\"dataframe\">\n",
       "  <thead>\n",
       "    <tr style=\"text-align: right;\">\n",
       "      <th></th>\n",
       "      <th>sky</th>\n",
       "      <th>airtemp</th>\n",
       "      <th>humidity</th>\n",
       "      <th>wind</th>\n",
       "      <th>water</th>\n",
       "      <th>forcast</th>\n",
       "      <th>enjoysport</th>\n",
       "    </tr>\n",
       "  </thead>\n",
       "  <tbody>\n",
       "    <tr>\n",
       "      <th>0</th>\n",
       "      <td>sunny</td>\n",
       "      <td>warm</td>\n",
       "      <td>normal</td>\n",
       "      <td>strong</td>\n",
       "      <td>warm</td>\n",
       "      <td>same</td>\n",
       "      <td>yes</td>\n",
       "    </tr>\n",
       "    <tr>\n",
       "      <th>1</th>\n",
       "      <td>sunny</td>\n",
       "      <td>warm</td>\n",
       "      <td>high</td>\n",
       "      <td>strong</td>\n",
       "      <td>warm</td>\n",
       "      <td>same</td>\n",
       "      <td>yes</td>\n",
       "    </tr>\n",
       "    <tr>\n",
       "      <th>2</th>\n",
       "      <td>rainy</td>\n",
       "      <td>cold</td>\n",
       "      <td>high</td>\n",
       "      <td>strong</td>\n",
       "      <td>warm</td>\n",
       "      <td>change</td>\n",
       "      <td>no</td>\n",
       "    </tr>\n",
       "    <tr>\n",
       "      <th>3</th>\n",
       "      <td>sunny</td>\n",
       "      <td>warm</td>\n",
       "      <td>high</td>\n",
       "      <td>strong</td>\n",
       "      <td>cool</td>\n",
       "      <td>change</td>\n",
       "      <td>yes</td>\n",
       "    </tr>\n",
       "  </tbody>\n",
       "</table>\n",
       "</div>"
      ],
      "text/plain": [
       "     sky airtemp humidity    wind water forcast enjoysport\n",
       "0  sunny    warm   normal  strong  warm    same        yes\n",
       "1  sunny    warm     high  strong  warm    same        yes\n",
       "2  rainy    cold     high  strong  warm  change         no\n",
       "3  sunny    warm     high  strong  cool  change        yes"
      ]
     },
     "execution_count": 7,
     "metadata": {},
     "output_type": "execute_result"
    }
   ],
   "source": [
    "data = pd.read_csv(r'D:\\6th Sem\\Machine Learning\\Program 02\\enjoysport.csv')\n",
    "data = pd.DataFrame(data)\n",
    "data"
   ]
  },
  {
   "cell_type": "code",
   "execution_count": 9,
   "metadata": {},
   "outputs": [
    {
     "data": {
      "text/plain": [
       "array([['sunny', 'warm', 'normal', 'strong', 'warm', 'same'],\n",
       "       ['sunny', 'warm', 'high', 'strong', 'warm', 'same'],\n",
       "       ['rainy', 'cold', 'high', 'strong', 'warm', 'change'],\n",
       "       ['sunny', 'warm', 'high', 'strong', 'cool', 'change']],\n",
       "      dtype=object)"
      ]
     },
     "execution_count": 9,
     "metadata": {},
     "output_type": "execute_result"
    }
   ],
   "source": [
    "concepts = np.array(data)[:,:-1]\n",
    "concepts"
   ]
  },
  {
   "cell_type": "code",
   "execution_count": 16,
   "metadata": {},
   "outputs": [
    {
     "data": {
      "text/plain": [
       "array(['yes', 'yes', 'no', 'yes'], dtype=object)"
      ]
     },
     "execution_count": 16,
     "metadata": {},
     "output_type": "execute_result"
    }
   ],
   "source": [
    "target = np.array(data)[:,-1]\n",
    "target"
   ]
  },
  {
   "cell_type": "code",
   "execution_count": 21,
   "metadata": {},
   "outputs": [
    {
     "name": "stdout",
     "output_type": "stream",
     "text": [
      "Initially, \n",
      "Specific Hypothesis : \n",
      "['sunny' 'warm' 'normal' 'strong' 'warm' 'same']\n",
      "General Hypothesis : \n",
      "[['?', '?', '?', '?', '?', '?'], ['?', '?', '?', '?', '?', '?'], ['?', '?', '?', '?', '?', '?'], ['?', '?', '?', '?', '?', '?'], ['?', '?', '?', '?', '?', '?'], ['?', '?', '?', '?', '?', '?']]\n",
      "\n",
      "\n",
      "['sunny' 'warm' 'normal' 'strong' 'warm' 'same']\n",
      "['sunny' 'warm' 'normal' 'strong' 'warm' 'same']\n",
      "['sunny' 'warm' 'normal' 'strong' 'warm' 'same']\n",
      "['sunny' 'warm' 'normal' 'strong' 'warm' 'same']\n",
      "['sunny' 'warm' 'normal' 'strong' 'warm' 'same']\n",
      "['sunny' 'warm' 'normal' 'strong' 'warm' 'same']\n",
      "['sunny' 'warm' 'normal' 'strong' 'warm' 'same']\n",
      " steps of Candidate Elimination ALgorithm 1\n",
      "['sunny' 'warm' 'normal' 'strong' 'warm' 'same']\n",
      "[['?', '?', '?', '?', '?', '?'], ['?', '?', '?', '?', '?', '?'], ['?', '?', '?', '?', '?', '?'], ['?', '?', '?', '?', '?', '?'], ['?', '?', '?', '?', '?', '?'], ['?', '?', '?', '?', '?', '?']]\n",
      "['sunny' 'warm' 'normal' 'strong' 'warm' 'same']\n",
      "['sunny' 'warm' 'normal' 'strong' 'warm' 'same']\n",
      "['sunny' 'warm' '?' 'strong' 'warm' 'same']\n",
      "['sunny' 'warm' '?' 'strong' 'warm' 'same']\n",
      "['sunny' 'warm' '?' 'strong' 'warm' 'same']\n",
      "['sunny' 'warm' '?' 'strong' 'warm' 'same']\n",
      "['sunny' 'warm' '?' 'strong' 'warm' 'same']\n",
      " steps of Candidate Elimination ALgorithm 2\n",
      "['sunny' 'warm' '?' 'strong' 'warm' 'same']\n",
      "[['?', '?', '?', '?', '?', '?'], ['?', '?', '?', '?', '?', '?'], ['?', '?', '?', '?', '?', '?'], ['?', '?', '?', '?', '?', '?'], ['?', '?', '?', '?', '?', '?'], ['?', '?', '?', '?', '?', '?']]\n",
      "['sunny' 'warm' '?' 'strong' 'warm' 'same']\n",
      " steps of Candidate Elimination ALgorithm 3\n",
      "['sunny' 'warm' '?' 'strong' 'warm' 'same']\n",
      "[['sunny', '?', '?', '?', '?', '?'], ['?', 'warm', '?', '?', '?', '?'], ['?', '?', '?', '?', '?', '?'], ['?', '?', '?', '?', '?', '?'], ['?', '?', '?', '?', '?', '?'], ['?', '?', '?', '?', '?', 'same']]\n",
      "['sunny' 'warm' '?' 'strong' 'warm' 'same']\n",
      "['sunny' 'warm' '?' 'strong' 'warm' 'same']\n",
      "['sunny' 'warm' '?' 'strong' 'warm' 'same']\n",
      "['sunny' 'warm' '?' 'strong' 'warm' 'same']\n",
      "['sunny' 'warm' '?' 'strong' '?' 'same']\n",
      "['sunny' 'warm' '?' 'strong' '?' '?']\n",
      "['sunny' 'warm' '?' 'strong' '?' '?']\n",
      " steps of Candidate Elimination ALgorithm 4\n",
      "['sunny' 'warm' '?' 'strong' '?' '?']\n",
      "[['sunny', '?', '?', '?', '?', '?'], ['?', 'warm', '?', '?', '?', '?'], ['?', '?', '?', '?', '?', '?'], ['?', '?', '?', '?', '?', '?'], ['?', '?', '?', '?', '?', '?'], ['?', '?', '?', '?', '?', '?']]\n",
      "\n",
      "\n",
      "Final Specific Hypothesis :\n",
      " ['sunny' 'warm' '?' 'strong' '?' '?']\n",
      "\n",
      "\n",
      "Final General Hypothesis :\n",
      " [['sunny', '?', '?', '?', '?', '?'], ['?', 'warm', '?', '?', '?', '?'], ['?', '?', '?', '?', '?', '?'], ['?', '?', '?', '?', '?', '?'], ['?', '?', '?', '?', '?', '?'], ['?', '?', '?', '?', '?', '?']]\n"
     ]
    }
   ],
   "source": [
    "specific_h = concepts[0].copy()\n",
    "general_h = [['?' for i in range(len(specific_h))] for i in range(len(specific_h))]\n",
    "print('Initially, ')\n",
    "print('Specific Hypothesis : ')\n",
    "print(specific_h)\n",
    "print('General Hypothesis : ')\n",
    "print(general_h)\n",
    "print('\\n')\n",
    "\n",
    "for i, h in enumerate(concepts):\n",
    "    if target[i] == \"yes\": # FIND S ALGO\n",
    "        for x in range(len(specific_h)):\n",
    "            if h[x] != specific_h[x]:\n",
    "                specific_h[x] = '?'\n",
    "                general_h[x][x] = '?'\n",
    "            print(specific_h)\n",
    "    print(specific_h)\n",
    "    if target[i] == \"no\":\n",
    "        for x in range(len(specific_h)):\n",
    "            if h[x] != specific_h[x]:\n",
    "                general_h[x][x] = specific_h[x]\n",
    "            else:\n",
    "                general_h[x][x] = '?'\n",
    "    print(\" steps of Candidate Elimination ALgorithm\", i+1)\n",
    "    print(specific_h)\n",
    "    print(general_h)\n",
    "indices  = [i for i, val in enumerate(general_h) if val == ['?','?','?','?','?']]\n",
    "for i in indices:\n",
    "    general_h.remove(['?','?','?','?','?'])\n",
    "\n",
    "print(\"\\n\")  \n",
    "print(\"Final Specific Hypothesis :\\n\", specific_h)\n",
    "print(\"\\n\")\n",
    "print(\"Final General Hypothesis :\\n\", general_h )"
   ]
  },
  {
   "cell_type": "code",
   "execution_count": null,
   "metadata": {},
   "outputs": [],
   "source": []
  }
 ],
 "metadata": {
  "kernelspec": {
   "display_name": "Python 3",
   "language": "python",
   "name": "python3"
  },
  "language_info": {
   "codemirror_mode": {
    "name": "ipython",
    "version": 3
   },
   "file_extension": ".py",
   "mimetype": "text/x-python",
   "name": "python",
   "nbconvert_exporter": "python",
   "pygments_lexer": "ipython3",
   "version": "3.7.6"
  }
 },
 "nbformat": 4,
 "nbformat_minor": 4
}
